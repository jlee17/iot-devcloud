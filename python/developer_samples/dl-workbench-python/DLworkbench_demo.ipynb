{
 "cells": [
  {
   "cell_type": "markdown",
   "metadata": {},
   "source": [
    "# DL Workbench \n",
    "\n",
    "This notebook sample demonstrates how to run DL -(Deep Learning) Workbench on the Intel® DevCloud for the Edge(stable version 2020R1).\n",
    "\n",
    "## Overview of how it works\n",
    "DL Workbench is a GUI based profiler that helps visualize the performance of deep learning models and datasets on various intel® architecture configurations (currently only supports CPU, GPU, and VPU.)\n",
    "This tool runs within a docker container\n",
    "\n",
    "## Demonstration objectives\n",
    "* Run the DLWorkbench docker container directly on any Edge compute node (CPU, GPU and VPU) \n",
    "* Note it takes a few minutes to run the DL Workbench on the Edge compute Node and presents an URL \n",
    "* User can click on the Unique URL generated to start the browser based GUI of the DL Workbench\n",
    "* The User completes rest of the DL Workbench workflow from the browser based GUI\n",
    "* Please note: The data is not archived at this point, when you close the DL Workbench, all data is lost.\n",
    "\n",
    "\n",
    "\n",
    "## Step 1: Set Up\n",
    "\n",
    "### 0.1: Import dependencies\n",
    "\n",
    "Run the below cell to import Python dependencies needed for displaying the results in this notebook\n",
    "(tip: select the cell and use **Ctrl+enter** to run the cell)"
   ]
  },
  {
   "cell_type": "code",
   "execution_count": null,
   "metadata": {},
   "outputs": [],
   "source": [
    "from IPython.display import HTML\n",
    "import matplotlib.pyplot as plt\n",
    "import os\n",
    "import time\n",
    "import sys                                     \n",
    "from qarpo.demoutils import *"
   ]
  },
  {
   "cell_type": "code",
   "execution_count": null,
   "metadata": {},
   "outputs": [],
   "source": [
    "!pbsnodes | grep compnode | awk '{print $3}' | sort | uniq -c"
   ]
  },
  {
   "cell_type": "markdown",
   "metadata": {},
   "source": [
    "## Run the DLWorkbench as a job \n",
    "DLWorkbench container is run as a job on the Edge compute node of your choice, \n",
    "The user runs the job with user priviliges, please wait upto 2 minutes as the DLWorkbench container completes the setup its internal dependencies, OpenVINO environment, database, and the UI via the browser session at the unique URL displayed below.\n",
    "\n",
    "When the DLWorkbench is ready, it generates an URL\n",
    "Point and click the URL below or copy/paste the link below."
   ]
  },
  {
   "cell_type": "code",
   "execution_count": null,
   "metadata": {},
   "outputs": [],
   "source": [
    "!qsub -I -l nodes=1:idc001skl:tank-870:i5-6500te -q dlworkbench"
   ]
  }
 ],
 "metadata": {
  "kernelspec": {
   "display_name": "Python 3 (Ubuntu)",
   "language": "python",
   "name": "c003-python_3"
  },
  "language_info": {
   "codemirror_mode": {
    "name": "ipython",
    "version": 3
   },
   "file_extension": ".py",
   "mimetype": "text/x-python",
   "name": "python",
   "nbconvert_exporter": "python",
   "pygments_lexer": "ipython3",
   "version": "3.6.9"
  },
  "widgets": {
   "application/vnd.jupyter.widget-state+json": {
    "state": {},
    "version_major": 2,
    "version_minor": 0
   }
  }
 },
 "nbformat": 4,
 "nbformat_minor": 4
}
