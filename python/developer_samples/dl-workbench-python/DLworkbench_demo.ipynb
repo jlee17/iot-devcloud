{
 "cells": [
  {
   "cell_type": "markdown",
   "metadata": {},
   "source": [
    "# DL Workbench \n",
    "\n",
    "This notebook sample demonstrates how to run DL -(Deep Learning) Workbench on the Intel® DevCloud for the Edge(stable version 2020R1).\n",
    "\n",
    "## Overview of how it works\n",
    "DL Workbench is a GUI based profiler that helps visualize the performance of deep learning models and datasets on various intel® architecture configurations (currently only supports CPU, GPU, and VPU.)\n",
    "This tool runs within a docker container\n",
    "\n",
    "## Demonstration objectives\n",
    "* Run the DLWorkbench docker container directly on any Edge compute node (CPU, GPU and VPU) \n",
    "* Note it takes a few minutes to run the DL Workbench on the Edge compute Node and presents an URL \n",
    "* User can click on the Unique URL generated to start the browser based GUI of the DL Workbench\n",
    "* The User completes rest of the DL Workbench workflow from the browser based GUI\n",
    "* Please note: The data is not archived at this point, when you close the DL Workbench, all data is lost.\n",
    "\n",
    "\n",
    "\n",
    "## Step 1: Set Up\n",
    "\n",
    "### 0.1: Import dependencies\n",
    "\n",
    "Run the below cell to import Python dependencies needed for displaying the results in this notebook\n",
    "(tip: select the cell and use **Ctrl+enter** to run the cell)"
   ]
  },
  {
   "cell_type": "code",
   "execution_count": 1,
   "metadata": {},
   "outputs": [],
   "source": [
    "from IPython.display import HTML\n",
    "import matplotlib.pyplot as plt\n",
    "import os\n",
    "import time\n",
    "import sys                                     \n",
    "from qarpo.demoutils import *"
   ]
  },
  {
   "cell_type": "code",
   "execution_count": 2,
   "metadata": {},
   "outputs": [
    {
     "name": "stdout",
     "output_type": "stream",
     "text": [
      "     43 idc001skl,compnode,iei,tank-870,intel-core,i5-6500te,skylake,intel-hd-530,ram8gb,net1gbe\r\n",
      "     13 idc002mx8,compnode,iei,tank-870,intel-core,i5-6500te,skylake,intel-hd-530,ram8gb,net1gbe,hddl-r,iei-mustang-v100-mx8\r\n",
      "     17 idc003a10,compnode,iei,tank-870,intel-core,i5-6500te,skylake,intel-hd-530,ram8gb,net1gbe,hddl-f,iei-mustang-f100-a10\r\n",
      "     22 idc004nc2,compnode,iei,tank-870,intel-core,i5-6500te,skylake,intel-hd-530,ram8gb,net1gbe,ncs,intel-ncs2\r\n",
      "      8 idc006kbl,compnode,iei,tank-870,intel-core,i5-7500t,kaby-lake,intel-hd-630,ram8gb,net1gbe\r\n",
      "     12 idc007xv5,compnode,iei,tank-870,intel-xeon,e3-1268l-v5,skylake,intel-hd-p530,ram32gb,net1gbe\r\n",
      "     14 idc008u2g,compnode,up-squared,grove,intel-atom,e3950,apollo-lake,intel-hd-505,ram4gb,net1gbe,ncs,intel-ncs2\r\n",
      "      1 idc009jkl,compnode,jwip,intel-core,i5-7500,kaby-lake,intel-hd-630,ram8gb,net1gbe\r\n",
      "      1 idc010jal,compnode,jwip,intel-atom,e3950,apollo-lake,intel-hd-505,ram4gb,net1gbe\r\n",
      "      1 idc011ark2250s,compnode,advantech,intel-core,i5-6442eq,skylake,intel-hd-530,ram8gb,net1gbe\r\n",
      "      1 idc012ark1220l,compnode,advantech,intel-atom,e3940,apollo-lake,intel-hd-500,ram4gb,net1gbe\r\n",
      "      1 idc013ds580,compnode,advantech,intel-atom,e3950,apollo-lake,intel-hd-505,ram2gb,net1gbe\r\n",
      "     19 idc014upxa10fx1,compnode,aaeon,upx-edgei7,intel-core,i7-8665ue,whiskey-lake,intel-uhd-620,ram16gb,net1gbe,vpu,myriadx-ma2485\r\n",
      "      5 idc015ai5,compnode,advantech,epc-c301i5,intel-core,i5-8365ue,whiskey-lake,intel-uhd-620,ram8gb,net1gbe,vpu,myriadx-ma2485\r\n",
      "      4 idc016ai7,compnode,advantech,epc-c301i7,intel-core,i7-8665ue,whiskey-lake,intel-uhd-620,ram16gb,net1gbe,vpu,myriadx-ma2485\r\n"
     ]
    }
   ],
   "source": [
    "!pbsnodes | grep compnode | awk '{print $3}' | sort | uniq -c"
   ]
  },
  {
   "cell_type": "markdown",
   "metadata": {},
   "source": [
    "## Run the DLWorkbench as a job \n",
    "DLWorkbench container is run as a job on an Edge compute node (CPU, GPU and VPU) \n",
    "At this time, DLWorkbench does not support the V100-MX8 nor F100-A10 cards\n",
    "The user runs the job with user priviliges, please wait upto 2 minutes as the DLWorkbench container completes the setup its internal dependencies, OpenVINO environment, database, and the UI via the browser session at the unique URL displayed below.\n",
    "\n",
    "When the DLWorkbench is ready, it generates an URL\n",
    "Point and click the URL below or copy/paste the link below."
   ]
  },
  {
   "cell_type": "code",
   "execution_count": null,
   "metadata": {},
   "outputs": [
    {
     "name": "stdout",
     "output_type": "stream",
     "text": [
      "qsub: waiting for job 6887.v-qsvr-1.devcloud-edge to start\n",
      "qsub: job 6887.v-qsvr-1.devcloud-edge ready\n",
      "\n",
      "\n",
      "########################################################################\n",
      "#      Date:           Thu Mar 12 13:29:33 PDT 2020\n",
      "#    Job ID:           6887.v-qsvr-1.devcloud-edge\n",
      "#      User:           u19892\n",
      "# Resources:           neednodes=1:idc001skl:tank-870:i5-6500te,nodes=1:idc001skl:tank-870:i5-6500te,walltime=02:00:00\n",
      "########################################################################\n",
      "\n",
      "Stopping any previously running instances of the OpenVINO DL Workbench...\n",
      "Starting the OpenVINO DL Workbench...\n",
      "a2d61aa08ecfc264b4a82af72671cc5435a6c0320b757e70d2e2b7741581e88a\n",
      "   ...waiting for the DL Workbench to initialize...\n",
      "     ...status check 1 out of 60\n",
      "     ...status check 2 out of 60\n",
      "     ...status check 3 out of 60\n",
      "     ...status check 4 out of 60\n",
      "     ...status check 5 out of 60\n",
      "The OpenVINO DL Workbench is listening on port 5665...\n",
      "You can access the interface of DL Workbench running on s001-n001\n",
      "by vising this URL in a web browser:\n",
      "https://dl-workbenchr31ryhbdzqtxjy3o.urlpark.colfaxconnect.com\n",
      "[setupvars.sh] OpenVINO environment initialized\n",
      "u19892@s001-n001:~$ "
     ]
    }
   ],
   "source": [
    "!qsub -I -l nodes=1:idc001skl:tank-870:i5-6500te -q dlworkbench"
   ]
  }
 ],
 "metadata": {
  "kernelspec": {
   "display_name": "Python 3 (Ubuntu)",
   "language": "python",
   "name": "c003-python_3"
  },
  "language_info": {
   "codemirror_mode": {
    "name": "ipython",
    "version": 3
   },
   "file_extension": ".py",
   "mimetype": "text/x-python",
   "name": "python",
   "nbconvert_exporter": "python",
   "pygments_lexer": "ipython3",
   "version": "3.6.9"
  },
  "widgets": {
   "application/vnd.jupyter.widget-state+json": {
    "state": {},
    "version_major": 2,
    "version_minor": 0
   }
  }
 },
 "nbformat": 4,
 "nbformat_minor": 4
}
