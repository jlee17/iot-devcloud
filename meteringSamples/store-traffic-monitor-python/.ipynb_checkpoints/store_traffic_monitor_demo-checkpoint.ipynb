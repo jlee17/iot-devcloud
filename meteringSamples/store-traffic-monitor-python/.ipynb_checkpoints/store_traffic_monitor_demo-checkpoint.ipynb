{
 "cells": [
  {
   "cell_type": "markdown",
   "metadata": {},
   "source": [
    "###  <font color='red'>  Important: </font> Before proceeding, run the following cell to check for code updates."
   ]
  },
  {
   "cell_type": "code",
   "execution_count": null,
   "metadata": {},
   "outputs": [],
   "source": [
    "from qarpo.catalog import DemoCatalog\n",
    "import os\n",
    "status = DemoCatalog(os.getcwd(), \"Demo\").ShowRepositoryControls()"
   ]
  },
  {
   "cell_type": "markdown",
   "metadata": {},
   "source": [
    "# Store Traffic Monitor\n",
    "\n",
    "Store traffic monitor is an advanced use-case example, which builds on the two previous examples (<a href=\"../flaw-detector-python/flawdetector-demo.ipynb\">flaw detector</a> and <a href=\"../object-detection-python/object_detection_demo.ipynb\">object detector</a>) and shows how a user can perform object detection and inference on multiple videos simultaneously. In this use case, the application monitors the activity of people inside and outside an imaginary store as well as keeps track of product inventory using a pre-trained neural network for detection. This application is capable of detecting objects on any number of screens as long as sufficient compute power is available.\n",
    "\n",
    "This demo assumes you have already tried the <a href=\"../object-detection-python/object_detection_demo.ipynb\">object detector</a> sample. If you have not done so already, we recommend going through that sample first to understand the workflow for developing a deep learning application using OpenVINO. \n",
    "\n",
    "More information on using the store traffic monitor, as well as the original source code, can be found on GitHub:\n",
    "\n",
    "https://github.com/intel-iot-devkit/store-traffic-monitor-python\n",
    "\n",
    "Note that the code in this notebook has been slightly modified from the version on GitHub in order to work in the IoT DevCloud environment.\n",
    "\n",
    "## Overview of How it works?\n",
    "\n",
    "The counter uses the inference engine included in the OpenVINO™ toolkit. A trained neural network detects objects within a designated area and displays a green bounding box over them. This reference implementation identifies multiple intruding objects entering the frame and identifies their class, count, and time entered. \n",
    "\n",
    "At start-up, the sample application reads a configuration file and loads a network and images from the video input to the Inference Engine (IE) plugin. At runtime, computations are offloaded to a the hardware accelerator (Intel® Core CPU, Intel® HD Graphics GPU, Intel® Xeon CPU, Intel® Movidius™ and/or Neural Compute Stick). Once the inference is completed, the output videos are appropriately rendered and stored in the /results directory, which can then be viewed within the Jupyter Notebook instance\n",
    "\n",
    "## Demonstration objectives\n",
    "* Video as input is supported using **OpenCV**\n",
    "* Inference performed on edge compute nodes with various target compute devices\n",
    "* **OpenCV** provides the bounding boxes, labels and other information\n",
    "* Visualization of the resulting bounding boxes\n",
    "* Demonstrate the Async API in action"
   ]
  },
  {
   "cell_type": "markdown",
   "metadata": {},
   "source": [
    "## Step 0: Setup\n",
    "\n",
    "Import dependencies for the notebook by running the following cell"
   ]
  },
  {
   "cell_type": "code",
   "execution_count": 3,
   "metadata": {},
   "outputs": [],
   "source": [
    "from IPython.display import HTML\n",
    "import matplotlib.pyplot as plt\n",
    "import os\n",
    "import time\n",
    "import sys\n",
    "from qarpo.demoutils import *"
   ]
  },
  {
   "cell_type": "code",
   "execution_count": null,
   "metadata": {},
   "outputs": [],
   "source": [
    "url = 'https://devcloud-portal-christian.dev.colfaxconnect.com/edge/grafana/render/d-solo/929/929-mobilenet-ssd-cpu-core-i5-u30759?orgId=4&from=1582705628000&to=1582705658000&panelId=14&width=1000&height=500&tz=Asia%2FCalcutta'\n",
    "iframe = '<iframe src=' + url + ' width=700 height=350></iframe>'\n",
    "HTML(iframe)"
   ]
  },
  {
   "cell_type": "markdown",
   "metadata": {},
   "source": [
    "## Step 1: Advanced OpenVINO\n",
    "\n",
    "The complete listing of source code for this example is in <a href=\"store_traffic_monitor.py\">store_traffic_monitor.py</a>.\n",
    "This application takes multiple video streams as inputs. The application is designed to work in both sync and async mode. In sync mode, the processing is done by the compute device by taking one frame at a time, whereas in async mode, the device takes multiple frames and processes them in parallel.\n",
    "\n",
    "\n",
    "**Configure the Application**\n",
    "\n",
    "All the configurations are written to store-traffic-monitor-python/conf_fp*.txt. We have two configuration files: conf_fp16.txt and conf_fp32.txt  \n",
    "\n",
    "- **conf_fp16.txt**: use if you want the inference to be run on Intel® Movidius™ Neural Compute Stick as it offers native FP16 precision.\n",
    "- **conf_fp32.txt**: use if you want the inference to be run on Intel® Core CPU, Intel® HD Graphics GPU and Intel® Xeon CPU.\n",
    "\n",
    "1st line: path/to/model.xml -> \n",
    "This is the path to the model topology in the local file system.\n",
    "The model topology file is the .xml file that the model optimizer produces, containing the IR of the model's topology.\n",
    "\n",
    "2nd line: path/to/model.bin ->\n",
    "This is the path to the model weights in the local file system.\n",
    "The model weights file is the .bin file that the model optimizer produces, containing the IR of the model's weights.\n",
    "\n",
    "3rd line: path/to/labels ->\n",
    "This is a path to the labels file in the local file system.\n",
    "The labels file is a text file containing all the classes/labels that the model can recognize, in the order that it was trained to recognize them (one class per line). All detection models work with integer labels and not string labels (e.g. for the mobilenet-ssd model, the **number 15 represents the class \"person\"**).\n",
    "For the mobilenet-ssd model, we provide the class file labels.txt in the **\"/data/reference-sample-data/store-traffic-monitor-python\"** folder.\n",
    "\n",
    "**Note** : store_traffic_monitor application is used to detect a person and a bottle in a frame. For the mobilenet-ssd model used in this example, the line number 5 and  line number 15 in the labels.txt file correspond to bottle and person, respectively. If you are using a different model, then the items in labels.txt file would need to be adjusted appropriately.\n",
    "\n",
    "Each of the following lines contain the path/to/video followed by the label to be detected on that video, e.g.:\n",
    "\n",
    "**/data/reference-sample-data/store-traffic-monitor-python/people-detection.mp4** person\n",
    "\n",
    "The path/to/video is the path, in the local file system, to a video that is used as input. The labels used must coincide with the labels from the labels file.\n",
    "\n",
    "**Models to Use ?**\n",
    "\n",
    "The application works with any object-detection model, provided it has the same input and output format of the mobilenet-ssd model.\n",
    "The model can be any object detection model:\n",
    "\n",
    "* that is provided by OpenVINO™ toolkit.\n",
    "These can be found in the openvino/deployment_tools/intel_models folder.\n",
    "* downloaded using the model downloader.\n",
    "These can be found in the openvino/deployment_tools/model_downloader/object_detection folder.\n",
    "* created by the user\n",
    "\n",
    "For first-time use, we recommend using the mobilenet-ssd model provided as a part of this application. The models can be found under the folder \"/data/reference-sample-data/models/mobilenet-ssd\"\n",
    "\n",
    "**Videos to Use ?**\n",
    "\n",
    "The application works with any input video. Sample videos for object detection are provided here.\n",
    "\n",
    "For first-use, we recommend using the people-detection, one-by-one-person-detection, bottle-detection videos.\n",
    "E.g.:\n",
    "\n",
    "/data/reference-sample-data/store-traffic-monitor-python/people-detection.mp4 person<br>\n",
    "/data/reference-sample-data/store-traffic-monitor-python/one-by-one-person-detection.mp4 person<br>\n",
    "/data/reference-sample-data/store-traffic-monitor-python/bottle-detection.mp4 bottle\n",
    "\n",
    "For the sake of simplicity, the videos are copied into /data/reference-sample-data/store-traffic-monitor-python/ folder\n",
    "\n",
    "**Command line arguments options and how they are interpreted in the application source code**\n",
    "\n",
    "```python\n",
    "** python3 store_traffic_monitor.py -d CPU -c conf_fp32.txt -o results **\n",
    "```\n",
    "\n",
    "#### The description of the arguments used in the argument parser is the command line executable equivalent.\n",
    "\n",
    " *  -o  location where the output file with inference results needs to be stored. (results/core or results/xeon or results/gpu or results/myriad)\n",
    "\n",
    " *  -d Type of Hardware Acceleration (CPU or GPU or MYRIAD)\n",
    " *  -c configuration file to use (\"conf_fp32.txt\" for Intel® Core CPU, Intel® HD Graphics GPU and Intel® Xeon CPU. \"conf_fp16.txt\" for Intel® Movidius™ Neural Compute Stick)"
   ]
  },
  {
   "cell_type": "markdown",
   "metadata": {},
   "source": [
    "### 1.1 Choosing Device\n",
    "First, we must select the device used for inferencing. This is done by loading the appropriate plugin to initialize the specified device (CPU, GPU, MYRIAD etc) and load the extensions library (if specified) provided in the extension/ folder for the device.\n",
    "\n",
    "The plugin class is IEPlugin and can be constructed as follows:\n",
    "```python\n",
    "    # Parses the configuration file \"conf.txt\" and reads model_xml, model_bin, labels_file, videoCaps\n",
    "    parse_conf_file()\n",
    "    # Plugin initialization for specified device and load extensions library\n",
    "    print(\"Initializing plugin for {} device...\".format(TARGET_DEVICE))\n",
    "    plugin = IEPlugin(device=TARGET_DEVICE)\n",
    "    if 'CPU' in TARGET_DEVICE:\n",
    "        plugin.add_cpu_extension(CPU_EXTENSION)\n",
    "```\n",
    "\n",
    "**Note**: Currently, three types of plugins are supported: CPU, GPU, and MYRIAD. The CPU plugin may require additional extensions to improve performance. Use add_cpu_extension function to load these additional extensions.\n",
    "\n",
    "### 1.2 Read the IR (Intermediate Representation) model\n",
    "\n",
    "Intel Model Optimizer creates Intermediate Representation (IR) models that are optimized for different Intel hardware.\n",
    "We can import these optimized models (weights) into our neural network using **`IENetwork`**. \n",
    "```python\n",
    "    net = IENetwork.from_ir(model=model_xml, weights=model_bin)\n",
    "    assert len(net.inputs.keys()) == 1, \"Sample supports only single input topologies\"\n",
    "    assert len(net.outputs) == 1, \"Sample supports only single output topologies\"\n",
    "    input_blob = next(iter(net.inputs))\n",
    "    out_blob = next(iter(net.outputs))\n",
    "```\n",
    "\n",
    "### 1.3 Load the network into the plugin\n",
    "\n",
    "Once we have the plugin and the network, we can load the IR into the plugin using **`plugin.load`**.\n",
    "\n",
    "```python\n",
    "    # Loading IR model to the plugin.\n",
    "    exec_net = plugin.load(network=net, num_requests=2)\n",
    "    # Read and pre-process input image\n",
    "    n, c, h, w = net.inputs[input_blob]\n",
    "    del net\n",
    "\n",
    "```\n",
    "\n",
    "### 1.4 Start video capture using OpenCV \n",
    "\n",
    "Now we are ready to capture the frames from the video sample using **OpenCV VideoCapture** API.\n",
    "Upon getting the frame we are ready to perform inference.\n",
    "\n",
    "```python\n",
    "cap = cv2.VideoCapture(input_stream)\n",
    "```"
   ]
  },
  {
   "cell_type": "markdown",
   "metadata": {},
   "source": [
    "\n",
    "### 1.5 Prepare the Model\n",
    "\n",
    "Run the cells below to download the mobilenet-ssd model and convert it using the Intel Model Optimizer."
   ]
  },
  {
   "cell_type": "code",
   "execution_count": 4,
   "metadata": {},
   "outputs": [
    {
     "name": "stdout",
     "output_type": "stream",
     "text": [
      "action-recognition-0001-decoder\r\n",
      "action-recognition-0001-encoder\r\n",
      "age-gender-recognition-retail-0013\r\n",
      "asl-recognition-0003\r\n",
      "driver-action-recognition-adas-0002-decoder\r\n",
      "driver-action-recognition-adas-0002-encoder\r\n",
      "emotions-recognition-retail-0003\r\n",
      "face-detection-adas-0001\r\n",
      "face-detection-adas-binary-0001\r\n",
      "face-detection-retail-0004\r\n",
      "face-detection-retail-0005\r\n",
      "face-reidentification-retail-0095\r\n",
      "facial-landmarks-35-adas-0002\r\n",
      "gaze-estimation-adas-0002\r\n",
      "handwritten-score-recognition-0003\r\n",
      "head-pose-estimation-adas-0001\r\n",
      "human-pose-estimation-0001\r\n",
      "image-retrieval-0001\r\n",
      "instance-segmentation-security-0010\r\n",
      "instance-segmentation-security-0050\r\n",
      "instance-segmentation-security-0083\r\n",
      "landmarks-regression-retail-0009\r\n",
      "license-plate-recognition-barrier-0001\r\n",
      "pedestrian-and-vehicle-detector-adas-0001\r\n",
      "pedestrian-detection-adas-0002\r\n",
      "pedestrian-detection-adas-binary-0001\r\n",
      "person-attributes-recognition-crossroad-0230\r\n",
      "person-detection-action-recognition-0005\r\n",
      "person-detection-action-recognition-0006\r\n",
      "person-detection-action-recognition-teacher-0002\r\n",
      "person-detection-asl-0001\r\n",
      "person-detection-raisinghand-recognition-0001\r\n",
      "person-detection-retail-0002\r\n",
      "person-detection-retail-0013\r\n",
      "person-reidentification-retail-0031\r\n",
      "person-reidentification-retail-0103\r\n",
      "person-reidentification-retail-0107\r\n",
      "person-reidentification-retail-0200\r\n",
      "person-vehicle-bike-detection-crossroad-0078\r\n",
      "person-vehicle-bike-detection-crossroad-1016\r\n",
      "product-detection-0001\r\n",
      "resnet18-xnor-binary-onnx-0001\r\n",
      "resnet50-binary-0001\r\n",
      "road-segmentation-adas-0001\r\n",
      "semantic-segmentation-adas-0001\r\n",
      "single-image-super-resolution-1032\r\n",
      "single-image-super-resolution-1033\r\n",
      "text-detection-0003\r\n",
      "text-detection-0004\r\n",
      "text-image-super-resolution-0001\r\n",
      "text-recognition-0012\r\n",
      "text-spotting-0001-detector\r\n",
      "text-spotting-0001-recognizer-decoder\r\n",
      "text-spotting-0001-recognizer-encoder\r\n",
      "vehicle-attributes-recognition-barrier-0039\r\n",
      "vehicle-detection-adas-0002\r\n",
      "vehicle-detection-adas-binary-0001\r\n",
      "vehicle-license-plate-detection-barrier-0106\r\n",
      "Sphereface\r\n",
      "alexnet\r\n",
      "brain-tumor-segmentation-0001\r\n",
      "brain-tumor-segmentation-0002\r\n",
      "caffenet\r\n",
      "ctdet_coco_dlav0_384\r\n",
      "ctdet_coco_dlav0_512\r\n",
      "ctpn\r\n",
      "deeplabv3\r\n",
      "densenet-121\r\n",
      "densenet-121-caffe2\r\n",
      "densenet-121-tf\r\n",
      "densenet-161\r\n",
      "densenet-161-tf\r\n",
      "densenet-169\r\n",
      "densenet-169-tf\r\n",
      "densenet-201\r\n",
      "efficientnet-b0\r\n",
      "efficientnet-b0-pytorch\r\n",
      "efficientnet-b0_auto_aug\r\n",
      "efficientnet-b5\r\n",
      "efficientnet-b5-pytorch\r\n",
      "efficientnet-b7-pytorch\r\n",
      "efficientnet-b7_auto_aug\r\n",
      "face-detection-retail-0044\r\n",
      "face-recognition-mobilefacenet-arcface\r\n",
      "face-recognition-resnet100-arcface\r\n",
      "face-recognition-resnet34-arcface\r\n",
      "face-recognition-resnet50-arcface\r\n",
      "facenet-20180408-102900\r\n",
      "faster_rcnn_inception_resnet_v2_atrous_coco\r\n",
      "faster_rcnn_inception_v2_coco\r\n",
      "faster_rcnn_resnet101_coco\r\n",
      "faster_rcnn_resnet50_coco\r\n",
      "googlenet-v1\r\n",
      "googlenet-v2\r\n",
      "googlenet-v3\r\n",
      "googlenet-v3-pytorch\r\n",
      "googlenet-v4\r\n",
      "human-pose-estimation-3d-0001\r\n",
      "inception-resnet-v2\r\n",
      "inception-resnet-v2-tf\r\n",
      "license-plate-recognition-barrier-0007\r\n",
      "mask_rcnn_inception_resnet_v2_atrous_coco\r\n",
      "mask_rcnn_inception_v2_coco\r\n",
      "mask_rcnn_resnet101_atrous_coco\r\n",
      "mask_rcnn_resnet50_atrous_coco\r\n",
      "mobilenet-ssd\r\n",
      "mobilenet-v1-0.25-128\r\n",
      "mobilenet-v1-0.50-160\r\n",
      "mobilenet-v1-0.50-224\r\n",
      "mobilenet-v1-1.0-224\r\n",
      "mobilenet-v1-1.0-224-tf\r\n",
      "mobilenet-v2\r\n",
      "mobilenet-v2-1.0-224\r\n",
      "mobilenet-v2-1.4-224\r\n",
      "mobilenet-v2-pytorch\r\n",
      "mtcnn-o\r\n",
      "mtcnn-p\r\n",
      "mtcnn-r\r\n",
      "octave-densenet-121-0.125\r\n",
      "octave-resnet-101-0.125\r\n",
      "octave-resnet-200-0.125\r\n",
      "octave-resnet-26-0.25\r\n",
      "octave-resnet-50-0.125\r\n",
      "octave-resnext-101-0.25\r\n",
      "octave-resnext-50-0.25\r\n",
      "octave-se-resnet-50-0.125\r\n",
      "resnet-101\r\n",
      "resnet-152\r\n",
      "resnet-50\r\n",
      "resnet-50-caffe2\r\n",
      "resnet-50-pytorch\r\n",
      "se-inception\r\n",
      "se-resnet-101\r\n",
      "se-resnet-152\r\n",
      "se-resnet-50\r\n",
      "se-resnext-101\r\n",
      "se-resnext-50\r\n",
      "single-human-pose-estimation-0001\r\n",
      "squeezenet1.0\r\n",
      "squeezenet1.1\r\n",
      "squeezenet1.1-caffe2\r\n",
      "ssd300\r\n",
      "ssd512\r\n",
      "ssd_mobilenet_v1_coco\r\n",
      "ssd_mobilenet_v1_fpn_coco\r\n",
      "ssd_mobilenet_v2_coco\r\n",
      "ssdlite_mobilenet_v2\r\n",
      "vehicle-license-plate-detection-barrier-0123\r\n",
      "vgg16\r\n",
      "vgg19\r\n",
      "vgg19-caffe2\r\n"
     ]
    }
   ],
   "source": [
    "!/opt/intel/openvino/deployment_tools/tools/model_downloader/downloader.py --print_all"
   ]
  },
  {
   "cell_type": "code",
   "execution_count": 5,
   "metadata": {},
   "outputs": [],
   "source": [
    "import os\n",
    "os.environ[\"OMP_NUM_THREADS\"] = \"4\" # export OMP_NUM_THREADS=4\n",
    "os.environ[\"OPENBLAS_NUM_THREADS\"] = \"4\" # export OPENBLAS_NUM_THREADS=4 \n",
    "os.environ[\"MKL_NUM_THREADS\"] = \"6\" # export MKL_NUM_THREADS=6\n",
    "os.environ[\"VECLIB_MAXIMUM_THREADS\"] = \"4\" # export VECLIB_MAXIMUM_THREADS=4\n",
    "os.environ[\"NUMEXPR_NUM_THREADS\"] = \"6\" # export NUMEXPR_NUM_THREADS=6 "
   ]
  },
  {
   "cell_type": "code",
   "execution_count": 6,
   "metadata": {},
   "outputs": [
    {
     "name": "stdout",
     "output_type": "stream",
     "text": [
      "################|| Downloading models ||################\n",
      "\n",
      "========== Downloading raw_models/public/mobilenet-ssd/mobilenet-ssd.prototxt\n",
      "... 100%, 28 KB, 45595 KB/s, 0 seconds passed\n",
      "\n",
      "========== Downloading raw_models/public/mobilenet-ssd/mobilenet-ssd.caffemodel\n",
      "... 100%, 22605 KB, 20034 KB/s, 1 seconds passed\n",
      "\n",
      "################|| Post-processing ||################\n",
      "\n"
     ]
    }
   ],
   "source": [
    "!/opt/intel/openvino/deployment_tools/tools/model_downloader/downloader.py --name mobilenet-ssd -o raw_models"
   ]
  },
  {
   "cell_type": "code",
   "execution_count": 7,
   "metadata": {},
   "outputs": [
    {
     "name": "stdout",
     "output_type": "stream",
     "text": [
      "Model Optimizer arguments:\n",
      "Common parameters:\n",
      "\t- Path to the Input Model: \t/home/u30759/Reference-samples/iot-devcloud/python/developer_samples/store-traffic-monitor-python/raw_models/public/mobilenet-ssd/mobilenet-ssd.caffemodel\n",
      "\t- Path for generated IR: \t/home/u30759/Reference-samples/iot-devcloud/python/developer_samples/store-traffic-monitor-python/models/mobilenet-ssd/FP32\n",
      "\t- IR output name: \tmobilenet-ssd\n",
      "\t- Log level: \tERROR\n",
      "\t- Batch: \tNot specified, inherited from the model\n",
      "\t- Input layers: \tNot specified, inherited from the model\n",
      "\t- Output layers: \tNot specified, inherited from the model\n",
      "\t- Input shapes: \tNot specified, inherited from the model\n",
      "\t- Mean values: \t[127,127,127]\n",
      "\t- Scale values: \tNot specified\n",
      "\t- Scale factor: \t256.0\n",
      "\t- Precision of IR: \tFP32\n",
      "\t- Enable fusing: \tTrue\n",
      "\t- Enable grouped convolutions fusing: \tTrue\n",
      "\t- Move mean values to preprocess section: \tFalse\n",
      "\t- Reverse input channels: \tFalse\n",
      "Caffe specific parameters:\n",
      "\t- Path to Python Caffe* parser generated from caffe.proto: \t/opt/intel/openvino/deployment_tools/model_optimizer/mo/front/caffe/proto\n",
      "\t- Enable resnet optimization: \tTrue\n",
      "\t- Path to the Input prototxt: \t/home/u30759/Reference-samples/iot-devcloud/python/developer_samples/store-traffic-monitor-python/raw_models/public/mobilenet-ssd/mobilenet-ssd.prototxt\n",
      "\t- Path to CustomLayersMapping.xml: \tDefault\n",
      "\t- Path to a mean file: \tNot specified\n",
      "\t- Offsets for a mean file: \tNot specified\n",
      "Model Optimizer version: \t2020.1.0-61-gd349c3ba4a\n",
      "\n",
      "[ SUCCESS ] Generated IR version 10 model.\n",
      "[ SUCCESS ] XML file: /home/u30759/Reference-samples/iot-devcloud/python/developer_samples/store-traffic-monitor-python/models/mobilenet-ssd/FP32/mobilenet-ssd.xml\n",
      "[ SUCCESS ] BIN file: /home/u30759/Reference-samples/iot-devcloud/python/developer_samples/store-traffic-monitor-python/models/mobilenet-ssd/FP32/mobilenet-ssd.bin\n",
      "[ SUCCESS ] Total execution time: 8.51 seconds. \n",
      "[ SUCCESS ] Memory consumed: 188 MB. \n"
     ]
    }
   ],
   "source": [
    "!/opt/intel/openvino/deployment_tools/model_optimizer/mo.py \\\n",
    "--input_model raw_models/public/mobilenet-ssd/mobilenet-ssd.caffemodel \\\n",
    "--data_type FP32 \\\n",
    "-o models/mobilenet-ssd/FP32 \\\n",
    "--scale 256 \\\n",
    "--mean_values [127,127,127] "
   ]
  },
  {
   "cell_type": "code",
   "execution_count": 8,
   "metadata": {},
   "outputs": [
    {
     "name": "stdout",
     "output_type": "stream",
     "text": [
      "Model Optimizer arguments:\n",
      "Common parameters:\n",
      "\t- Path to the Input Model: \t/home/u30759/Reference-samples/iot-devcloud/python/developer_samples/store-traffic-monitor-python/raw_models/public/mobilenet-ssd/mobilenet-ssd.caffemodel\n",
      "\t- Path for generated IR: \t/home/u30759/Reference-samples/iot-devcloud/python/developer_samples/store-traffic-monitor-python/models/mobilenet-ssd/FP16\n",
      "\t- IR output name: \tmobilenet-ssd\n",
      "\t- Log level: \tERROR\n",
      "\t- Batch: \tNot specified, inherited from the model\n",
      "\t- Input layers: \tNot specified, inherited from the model\n",
      "\t- Output layers: \tNot specified, inherited from the model\n",
      "\t- Input shapes: \tNot specified, inherited from the model\n",
      "\t- Mean values: \t[127,127,127]\n",
      "\t- Scale values: \tNot specified\n",
      "\t- Scale factor: \t256.0\n",
      "\t- Precision of IR: \tFP16\n",
      "\t- Enable fusing: \tTrue\n",
      "\t- Enable grouped convolutions fusing: \tTrue\n",
      "\t- Move mean values to preprocess section: \tFalse\n",
      "\t- Reverse input channels: \tFalse\n",
      "Caffe specific parameters:\n",
      "\t- Path to Python Caffe* parser generated from caffe.proto: \t/opt/intel/openvino/deployment_tools/model_optimizer/mo/front/caffe/proto\n",
      "\t- Enable resnet optimization: \tTrue\n",
      "\t- Path to the Input prototxt: \t/home/u30759/Reference-samples/iot-devcloud/python/developer_samples/store-traffic-monitor-python/raw_models/public/mobilenet-ssd/mobilenet-ssd.prototxt\n",
      "\t- Path to CustomLayersMapping.xml: \tDefault\n",
      "\t- Path to a mean file: \tNot specified\n",
      "\t- Offsets for a mean file: \tNot specified\n",
      "Model Optimizer version: \t2020.1.0-61-gd349c3ba4a\n",
      "\n",
      "[ SUCCESS ] Generated IR version 10 model.\n",
      "[ SUCCESS ] XML file: /home/u30759/Reference-samples/iot-devcloud/python/developer_samples/store-traffic-monitor-python/models/mobilenet-ssd/FP16/mobilenet-ssd.xml\n",
      "[ SUCCESS ] BIN file: /home/u30759/Reference-samples/iot-devcloud/python/developer_samples/store-traffic-monitor-python/models/mobilenet-ssd/FP16/mobilenet-ssd.bin\n",
      "[ SUCCESS ] Total execution time: 8.50 seconds. \n",
      "[ SUCCESS ] Memory consumed: 188 MB. \n"
     ]
    }
   ],
   "source": [
    "!/opt/intel/openvino/deployment_tools/model_optimizer/mo.py \\\n",
    "--input_model raw_models/public/mobilenet-ssd/mobilenet-ssd.caffemodel \\\n",
    "--data_type FP16 \\\n",
    "-o models/mobilenet-ssd/FP16 \\\n",
    "--scale 256 \\\n",
    "--mean_values [127,127,127] "
   ]
  },
  {
   "cell_type": "markdown",
   "metadata": {},
   "source": [
    "## Step 2: Running on the IoT DevCloud\n",
    "\n",
    "### 2.1 Creating job file\n",
    "\n",
    "Like in the object detection example, we will perform inference on multiple edge compute devices by submitting jobs into the IoT DevCloud queue. To do this, first, we need to create a job file.\n",
    "The job file is a Bash script, and will be executed on the edge compute node.\n",
    "For this example, we have written the job file for you in the notebook.\n",
    "Run the following cell to write this in to the file \"store_traffic_manager_job.sh\""
   ]
  },
  {
   "cell_type": "code",
   "execution_count": 9,
   "metadata": {},
   "outputs": [
    {
     "name": "stdout",
     "output_type": "stream",
     "text": [
      "Overwriting store_traffic_monitor_job.sh\n"
     ]
    }
   ],
   "source": [
    "%%writefile store_traffic_monitor_job.sh\n",
    "\n",
    "# The default path for the job is your home directory, so we change directory to where the files are.\n",
    "cd $PBS_O_WORKDIR\n",
    "\n",
    "OUTPUT_FILE=$1\n",
    "DEVICE=$2\n",
    "FP_MODEL=$3\n",
    "NUM_VIDEOS=$4\n",
    "\n",
    "# Traffic monitor script writes output to a file inside a directory. We make sure that this directory exists.\n",
    "#  The output directory is the first argument of the bash script\n",
    "mkdir -p $1\n",
    "\n",
    "if [ \"$DEVICE\" = \"HETERO:FPGA,CPU\" ]; then\n",
    "    #source /opt/fpga_support_files/setup_env.sh\n",
    "    source /opt/intel/init_openvino.sh\n",
    "    aocl program acl0 /opt/intel/openvino/bitstreams/a10_vision_design_sg1_bitstreams/2019R3_PV_PL1_FP16_MobileNet_Clamp.aocx\n",
    "fi\n",
    "\n",
    "if [ \"$FP_MODEL\" = \"FP32\" ]; then\n",
    "    config_file=\"conf_fp32.txt\"  \n",
    "else\n",
    "    config_file=\"conf_fp16.txt\"\n",
    "fi\n",
    "\n",
    "SAMPLEPATH=$PBS_O_WORKDIR\n",
    "# Traffic monitor takes 3 inputs, which are passed in as arguments to the bash script. \n",
    "#  -o : output directory of the videos\n",
    "#  -d : device to use for inference\n",
    "#  -c : conf file to use\n",
    "#  -n : number of videos to process\n",
    "#cp influxdbSender.py /etc/collectd/influxdbSender.py \n",
    "#cp dashboard.json /etc/collectd/dashboard.json \n",
    "\n",
    "python3 store_traffic_monitor.py  -d $DEVICE \\\n",
    "                                    -m ${SAMPLEPATH}/models/mobilenet-ssd/${FP_MODEL}/mobilenet-ssd.xml \\\n",
    "                                    -l labels.txt \\\n",
    "                                    -lp false \\\n",
    "                                    -o $OUTPUT_FILE \\\n",
    "                                    -c $config_file \\\n",
    "                                    -n $NUM_VIDEOS\n"
   ]
  },
  {
   "cell_type": "markdown",
   "metadata": {},
   "source": [
    "### 2.2 Submitting to Job Queue\n",
    "\n",
    "Now that we have the job script, we can submit the jobs to compute nodes using the `qsub` command.\n",
    "Let's try submitting the store_traffic_monitor job to 5 different types of nodes.\n",
    "\n",
    "There are three options of `qsub` command that we use for this:\n",
    "- `-l` : this option lets us select the number and the type of nodes using `nodes={node_count}:{property}`. \n",
    "- `-F` : this option lets us send arguments to the bash script. \n",
    "- `-N` : this option lets us name the job so that it is easier to distinguish between them.\n",
    "\n",
    "To see the available types of nodes (e.g. properties) on the IoT DevCloud, run the following cell."
   ]
  },
  {
   "cell_type": "code",
   "execution_count": 1,
   "metadata": {},
   "outputs": [
    {
     "name": "stdout",
     "output_type": "stream",
     "text": [
      "      1      properties = sb1,agg,compnode,iei,tank-870,intel-core,i5-7500t,kaby-lake,intel-hd-630,ram8gb,net1gbe\r\n",
      "      1      properties = sb1,col,compnode,iei,tank-870,intel-core,i5-7500t,kaby-lake,intel-hd-630,ram8gb,net1gbe\r\n",
      "      1      properties = sb1,idc001skl,idc002mx8,compnode,iei,tank-870,intel-core,i5-6500te,skylake,intel-hd-530,ram8gb,net1gbe,hddl-r,iei-mustang-v100-mx8\r\n",
      "      1      properties = sb1,idc003a10,idc001skl,idc003a10,compnode,iei,tank-870,intel-core,i5-6500te,skylake,intel-hd-530,ram8gb,net1gbe,hddl-f,iei-mustang-f100-a10\r\n",
      "      1      properties = sb1,idc004nc2,idc001skl,idc004nc2,compnode,iei,tank-870,intel-core,i5-6500te,skylake,intel-hd-530,ram8gb,net1gbe,ncs,intel-ncs2\r\n",
      "      1      properties = sb1,idc007xv5,compnode,iei,tank-870,intel-xeon,e3-1268l-v5,skylake,intel-hd-p530,ram32gb,net1gbe\r\n",
      "      1      properties = sb1,idc008u2g,compnode,up-squared,grove,intel-atom,e3950,apollo-lake,intel-hd-505,ram4gb,net1gbe,ncs,intel-ncs2\r\n"
     ]
    }
   ],
   "source": [
    "!pbsnodes | grep compnode | sort | uniq -c"
   ]
  },
  {
   "cell_type": "markdown",
   "metadata": {},
   "source": [
    "Here, the properties describe the node, and number on the left is the number of available nodes.\n",
    "\n",
    "Now let's actually submit the jobs. \n",
    "The 5 code cells below will submit jobs to nodes with different architectures.\n",
    "The output of the cell is the `JobID` of your job, which you can use to track progress of a job.\n",
    "\n",
    "#### submitting to sandbox node with Intel® Core CPU"
   ]
  },
  {
   "cell_type": "code",
   "execution_count": 15,
   "metadata": {},
   "outputs": [
    {
     "name": "stdout",
     "output_type": "stream",
     "text": [
      "Submitting a job to an edge compute node with an Intel Core CPU...\n",
      "1195.v-qsvr-sb1.devcloud-edge\n"
     ]
    },
    {
     "data": {
      "application/vnd.jupyter.widget-view+json": {
       "model_id": "6952615178fa42fc820ab284a88f9b2e",
       "version_major": 2,
       "version_minor": 0
      },
      "text/plain": [
       "HBox(children=(FloatProgress(value=0.0, bar_style='info', description='Inference', style=ProgressStyle(descrip…"
      ]
     },
     "metadata": {},
     "output_type": "display_data"
    }
   ],
   "source": [
    "print(\"Submitting a job to an edge compute node with an Intel Core CPU...\")\n",
    "#Submit job to the queue\n",
    "job_id_core =!qsub store_traffic_monitor_job.sh -l nodes=s101-n001 -F \"results/core HDDL FP16 3\" -N monitor_core\n",
    "print(job_id_core[0])\n",
    "jobid = job_id_core[0].split('.')[0]\n",
    "#Progress indicators\n",
    "if job_id_core:\n",
    "    progressIndicator('results/core', 'i_progress_'+job_id_core[0]+'.txt', \"Inference\", 0, 100)"
   ]
  },
  {
   "cell_type": "markdown",
   "metadata": {},
   "source": [
    "### 2.3 Check if the jobs are done\n",
    "\n",
    "Run the following cell to bring up the qstat widget and monitor the running jobs. "
   ]
  },
  {
   "cell_type": "code",
   "execution_count": 11,
   "metadata": {},
   "outputs": [
    {
     "data": {
      "application/vnd.jupyter.widget-view+json": {
       "model_id": "5f14156074234aa3959ff0019ffa9584",
       "version_major": 2,
       "version_minor": 0
      },
      "text/plain": [
       "Output(layout=Layout(border='1px solid gray', height='300px', width='100%'))"
      ]
     },
     "metadata": {},
     "output_type": "display_data"
    },
    {
     "data": {
      "application/vnd.jupyter.widget-view+json": {
       "model_id": "f1836c1d815b480cb6cff94fd4732261",
       "version_major": 2,
       "version_minor": 0
      },
      "text/plain": [
       "Button(description='Stop', style=ButtonStyle())"
      ]
     },
     "metadata": {},
     "output_type": "display_data"
    }
   ],
   "source": [
    "liveQstat()"
   ]
  },
  {
   "cell_type": "markdown",
   "metadata": {},
   "source": [
    "## Metering Dashboard\n",
    "\n",
    "Once the job is done run the below below cell to genarate dynamic link to the last job run."
   ]
  },
  {
   "cell_type": "code",
   "execution_count": 14,
   "metadata": {},
   "outputs": [
    {
     "data": {
      "text/html": [
       "<a target='_blank' href='https://devcloud-portal-christian.dev.colfaxconnect.com/edge/grafana/d/1194'> Click here to view metering dashboard</a>"
      ],
      "text/plain": [
       "<IPython.core.display.HTML object>"
      ]
     },
     "metadata": {},
     "output_type": "display_data"
    }
   ],
   "source": [
    "link_t = \"<a target='_blank' href='{href}'> Click here to view metering dashboard</a>\"\n",
    "\n",
    "result_file = \"https://devcloud-portal-christian.dev.colfaxconnect.com/edge/grafana/d/\" + jobid\n",
    "\n",
    "html = HTML(link_t.format(href=result_file))\n",
    "\n",
    "display(html)"
   ]
  },
  {
   "cell_type": "markdown",
   "metadata": {},
   "source": [
    "#### submitting to sandbox node with Intel® Core CPU and using the onboard Intel GPU"
   ]
  },
  {
   "cell_type": "code",
   "execution_count": null,
   "metadata": {},
   "outputs": [],
   "source": [
    "print(\"Submitting a job to an edge compute node with an Intel Core CPU and an Intel GPU...\")\n",
    "#Submit job to the queue\n",
    "job_id_gpu = !qsub store_traffic_monitor_job.sh -l nodes=s101-n030 -F \"results/gpu GPU FP32 3\" -N monitor_gpu\n",
    "print(job_id_gpu[0])\n",
    "GPU_jobid = job_id_gpu[0].split('.')[0]\n",
    "#Progress indicators\n",
    "if job_id_gpu:\n",
    "    progressIndicator('results/gpu', 'i_progress_'+job_id_gpu[0]+'.txt', \"Inference\", 0, 100)"
   ]
  },
  {
   "cell_type": "markdown",
   "metadata": {},
   "source": [
    "## Metering Dashboard\n",
    "\n",
    "Once the job is done run the below below cell to genarate dynamic link to the last job run."
   ]
  },
  {
   "cell_type": "code",
   "execution_count": null,
   "metadata": {},
   "outputs": [],
   "source": [
    "link_t = \"<a target='_blank' href='{href}'> Click here to view metering dashboard</a>\"\n",
    "\n",
    "result_file = \"https://devcloud-portal-christian.dev.colfaxconnect.com/edge/grafana/d/\" + GPU_jobid\n",
    "\n",
    "html = HTML(link_t.format(href=result_file))\n",
    "\n",
    "display(html)"
   ]
  },
  {
   "cell_type": "markdown",
   "metadata": {},
   "source": [
    "You should see the jobs you have submitted (referenced by `Job ID`).\n",
    "It should also show a job in the queue \"jupyterhub\", which runs the present Jupyter Notebook session. \n",
    "In the column \"S\", you can find the status of each job. \"Q\" means that the job is waiting for resources in the queue. \"R\" means that the job is running. When the a job is running, the progress indicators underneath the cells that submitedt that job will tell you how far the job has progressed."
   ]
  },
  {
   "cell_type": "markdown",
   "metadata": {},
   "source": [
    "**Wait!**\n",
    "\n",
    "Before moving to step 3, make sure that all the monitor_*  jobs submitted to the queue are completed."
   ]
  },
  {
   "cell_type": "markdown",
   "metadata": {},
   "source": [
    "## Step 3: Results\n",
    "\n",
    "Once the jobs are complete, the queue software writes the stdout and stderr streams into files with names of the form\n",
    "\n",
    "`monitor_{type}.o{JobID}`\n",
    "\n",
    "`monitor_{type}.e{JobID}`\n",
    "\n",
    "(here, the prefix `monitor_{type}` is based on our `-N` argument of `qsub`)\n",
    "\n",
    "However, for our store monitor example, rather than studying stdout/stderr, you will likely be more interested in viewing the main output in the mp4 videos that are stored in the `results/` directory.\n",
    "We wrote a short utility script that will display these videos in the notebook. Run the cells below to view the video.\n",
    "See `demoutils.py` if interested in the script."
   ]
  },
  {
   "cell_type": "markdown",
   "metadata": {},
   "source": [
    "Then run the following four cells to see the output  from out jobs."
   ]
  },
  {
   "cell_type": "code",
   "execution_count": null,
   "metadata": {},
   "outputs": [],
   "source": [
    "videoHTML('IEI Tank (Intel® Core CPU)',\n",
    "          ['results/core/inference_output_Video_0.mp4',\n",
    "           'results/core/inference_output_Video_1.mp4', \n",
    "           'results/core/inference_output_Video_2.mp4', \n",
    "           'results/core/Statistics.mp4'],\n",
    "           'results/core/stats.txt')"
   ]
  },
  {
   "cell_type": "code",
   "execution_count": null,
   "metadata": {},
   "outputs": [],
   "source": [
    "videoHTML('IEI Tank Xeon (Intel® Xeon CPU)',\n",
    "          ['results/xeon/inference_output_Video_0.mp4',\n",
    "           'results/xeon/inference_output_Video_1.mp4',\n",
    "           'results/xeon/inference_output_Video_2.mp4',\n",
    "           'results/xeon/Statistics.mp4'],\n",
    "           'results/xeon/stats.txt')"
   ]
  },
  {
   "cell_type": "code",
   "execution_count": null,
   "metadata": {},
   "outputs": [],
   "source": [
    "videoHTML('IEI Intel GPU (Intel® Onboard GPU)',\n",
    "          ['results/gpu/inference_output_Video_0.mp4',\n",
    "           'results/gpu/inference_output_Video_1.mp4',\n",
    "           'results/gpu/inference_output_Video_2.mp4',\n",
    "           'results/gpu/Statistics.mp4'],\n",
    "           'results/gpu/stats.txt')"
   ]
  },
  {
   "cell_type": "code",
   "execution_count": null,
   "metadata": {},
   "outputs": [],
   "source": [
    "videoHTML('IEI Tank + Myriad (Intel® Core + Movidius NCS 2)',\n",
    "          ['results/myriad/inference_output_Video_0.mp4',\n",
    "           'results/myriad/inference_output_Video_1.mp4', \n",
    "           'results/myriad/inference_output_Video_2.mp4', \n",
    "           'results/myriad/Statistics.mp4'],\n",
    "           'results/myriad/stats.txt')"
   ]
  },
  {
   "cell_type": "code",
   "execution_count": null,
   "metadata": {},
   "outputs": [],
   "source": [
    "videoHTML('UP Squared Grove IoT Development Kit (UP2)',\n",
    "          ['results/up2/inference_output_Video_0.mp4',\n",
    "           'results/up2/inference_output_Video_1.mp4',\n",
    "           'results/up2/inference_output_Video_2.mp4',\n",
    "           'results/up2/Statistics.mp4'],\n",
    "           'results/up2/stats.txt')"
   ]
  },
  {
   "cell_type": "code",
   "execution_count": null,
   "metadata": {},
   "outputs": [],
   "source": [
    "videoHTML('IEI Tank + Intel FPGA HDDL-F',\n",
    "          ['results/fpga/inference_output_Video_0.mp4',\n",
    "           'results/fpga/inference_output_Video_1.mp4',\n",
    "           'results/fpga/inference_output_Video_2.mp4',\n",
    "           'results/fpga/Statistics.mp4'],\n",
    "           'results/fpga/stats.txt')"
   ]
  },
  {
   "cell_type": "code",
   "execution_count": null,
   "metadata": {},
   "outputs": [],
   "source": [
    "videoHTML('IEI Tank + Intel HDDL-R',\n",
    "          ['results/hddlr/inference_output_Video_0.mp4',\n",
    "           'results/hddlr/inference_output_Video_1.mp4',\n",
    "           'results/hddlr/inference_output_Video_2.mp4',\n",
    "           'results/hddlr/Statistics.mp4'],\n",
    "           'results/hddlr/stats.txt')"
   ]
  },
  {
   "cell_type": "markdown",
   "metadata": {},
   "source": [
    "## Step 4: Assess Performance\n",
    "\n",
    "The running time of each inference task is recorded in `results/*/stats.txt`, where the subdirectory name corresponds to the architecture of the target edge compute node. Run the cell below to plot the results of all jobs side-by-side. Lower values mean better performance. Keep in mind that some architectures are optimized for the highest performance, others for low power or other metrics."
   ]
  },
  {
   "cell_type": "code",
   "execution_count": null,
   "metadata": {},
   "outputs": [],
   "source": [
    "arch_list = [('core', 'Intel Core\\ni5-6500TE\\nCPU'),\n",
    "             ('xeon', 'Intel Xeon\\nE3-1268L v5\\nCPU'),\n",
    "             ('gpu', ' Intel Core\\ni5-6500TE\\nGPU'),\n",
    "             ('fpga', ' IEI Mustang\\nF100-A10\\nFPGA'),\n",
    "             ('myriad', 'Intel\\nNCS2'),\n",
    "             ('up2', 'Intel Atom\\nx7-E3950\\nUP2/GPU'),\n",
    "            ('hddlr', 'IEI Mustang\\nV100-MX8\\nHDDL-R')]\n",
    "\n",
    "stats_list = []\n",
    "for arch, a_name in arch_list:\n",
    "    if 'job_id_'+arch in vars():\n",
    "        stats_list.append(('results/{arch}/stats.txt'.format(arch=arch), a_name))\n",
    "    else:\n",
    "        stats_list.append(('placeholder'+arch, a_name))\n",
    "\n",
    "summaryPlot(stats_list, 'Architecture', 'Time, seconds', 'Inference Engine Processing Time', 'time')\n",
    "summaryPlot(stats_list, 'Architecture', 'Frames per second', 'Inference Engine FPS', 'fps')"
   ]
  }
 ],
 "metadata": {
  "kernelspec": {
   "display_name": "Python 3 (Ubuntu)",
   "language": "python",
   "name": "c003-python_3"
  },
  "language_info": {
   "codemirror_mode": {
    "name": "ipython",
    "version": 3
   },
   "file_extension": ".py",
   "mimetype": "text/x-python",
   "name": "python",
   "nbconvert_exporter": "python",
   "pygments_lexer": "ipython3",
   "version": "3.6.9"
  }
 },
 "nbformat": 4,
 "nbformat_minor": 2
}
