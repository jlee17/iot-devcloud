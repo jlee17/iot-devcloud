{
 "cells": [
  {
   "cell_type": "markdown",
   "metadata": {},
   "source": [
    "### Brain Tumor Segmentation Sample\n",
    "\n",
    "The Brain Tumor Segmentation Sample demonstrates the Intel® Distribution of OpenVINO™ toolkit preformance optimization in a healthcare use case. The U-Net architecture is used to model and predict the location of brain tumors in MRI scans.\n",
    "\n",
    "#### This demo has two parts:\n",
    "1. Inference with OpenVINO: [healthcare_openvino.ipynb](healthcare_openvino.ipynb)\n",
    " \n",
    " This example notebook features the brain tumor segmentation using the Intel® Distribution of OpenVINO™ toolkit for model optimization and inference. In this implementation, the code can be executed not only on Intel CPUs, but also on accelerators, such as Intel HD Graphics, Intel Neural Compute Stick 2 and HDDL-R, and an Intel FPGA (HDDL-F).\n",
    "\n",
    "2. Inference with MKL-DNN: [healthcare_no_openvino.ipynb](healthcare_no_openvino.ipynb)\n",
    "\n",
    "  This example notebook demonstrates the brain tumor segmentation workload\n",
    "  * using stock Tensorflow and\n",
    "  * using Intel-optimized Tensorflow and MKL-DNN"
   ]
  }
 ],
 "metadata": {
  "kernelspec": {
   "display_name": "Python 3 (Ubuntu)",
   "language": "python",
   "name": "c003-python_3"
  },
  "language_info": {
   "codemirror_mode": {
    "name": "ipython",
    "version": 3
   },
   "file_extension": ".py",
   "mimetype": "text/x-python",
   "name": "python",
   "nbconvert_exporter": "python",
   "pygments_lexer": "ipython3",
   "version": "3.6.8"
  }
 },
 "nbformat": 4,
 "nbformat_minor": 2
}
